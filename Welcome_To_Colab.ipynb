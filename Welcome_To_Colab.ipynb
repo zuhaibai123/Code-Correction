{
  "cells": [
    {
      "cell_type": "markdown",
      "metadata": {
        "id": "view-in-github",
        "colab_type": "text"
      },
      "source": [
        "<a href=\"https://colab.research.google.com/github/zuhaibai123/Code-Correction/blob/main/Welcome_To_Colab.ipynb\" target=\"_parent\"><img src=\"https://colab.research.google.com/assets/colab-badge.svg\" alt=\"Open In Colab\"/></a>"
      ]
    },
    {
      "cell_type": "code",
      "source": [
        "import openai\n",
        "\n",
        "openai.api_key = \"\"\n",
        "\n",
        "def Code_correction(word):\n",
        "  messages=[\n",
        "      {\"role\" :\"system\" ,\"content\": \"\"\"your are trained to analyze the errors in a computer programming.if there are any errors tell to user\n",
        "                                     about the error if the code contains zero errors tell the user that the program is ready to run.\"\"\"},\n",
        "      {\"role\" :\"user\" ,\"content\" : f\"analyze the code that is given to you and give the user output according to the code.{word}\"}\n",
        "\n",
        "  ]\n",
        "  response = openai.ChatCompletion.create(\n",
        "        model=\"gpt-3.5-turbo\",\n",
        "        messages=messages,\n",
        "        n=1,\n",
        "        max_tokens=150,\n",
        "        stop=None,\n",
        "        temperature=0.5\n",
        "    )\n",
        "\n",
        "  response_text = response.choices[0].message.content.strip().lower()\n",
        "  return response_text\n"
      ],
      "metadata": {
        "id": "dMv-wKe-6r2L"
      },
      "execution_count": null,
      "outputs": []
    }
  ],
  "metadata": {
    "colab": {
      "name": "Welcome To Colab",
      "toc_visible": true,
      "provenance": [],
      "include_colab_link": true
    },
    "kernelspec": {
      "display_name": "Python 3",
      "name": "python3"
    }
  },
  "nbformat": 4,
  "nbformat_minor": 0
}